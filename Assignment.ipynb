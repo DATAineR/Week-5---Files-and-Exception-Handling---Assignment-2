{
 "cells": [
  {
   "cell_type": "markdown",
   "id": "dc8a19e8-4098-4a20-9d46-6dd5954a464f",
   "metadata": {},
   "source": [
    "Q1. Explain why we have to use the Exception class while creating a Custom Exception.\r\n",
    "\r\n",
    "Note: Here Exception class refers to the base class for all the exceptions."
   ]
  },
  {
   "cell_type": "markdown",
   "id": "85f71a33-844a-45f6-b617-26f7c55bd195",
   "metadata": {},
   "source": [
    "\n",
    "In Python, the Exception class serves as the base class for all built-in exceptions. When creating a custom exception, it is recommended to inherit from the Exception class for several important reasons:\n",
    "\n",
    "Inheritance from a Common Base:\n",
    "\n",
    "Inheriting from the Exception class ensures that your custom exception is part of the common hierarchy shared by all exceptions in Python. This common base allows for a consistent and standardized approach to exception handling throughout the language.\n",
    "Compatibility with Exception Handling Mechanisms:\n",
    "\n",
    "Python's exception handling mechanisms are designed to work with exceptions derived from the Exception class. This includes try, except, else, and finally blocks. When you inherit from Exception, your custom exception can be caught by generic except Exception clauses, providing a catch-all mechanism if needed.\n",
    "Interoperability with Standard Libraries and Tools:\n",
    "\n",
    "Many standard libraries and tools in Python are built to interact with exceptions based on the Exception class. By using this common base, your custom exception integrates seamlessly with these tools, making it easier to work within the broader Python ecosystem.\n",
    "Consistent Naming and Convention:\n",
    "\n",
    "Following the convention of inheriting from Exception helps in maintaining code consistency and readability. It signals to other developers that your class represents an exception and aligns with established naming conventions.\n",
    "Future-Proofing:\n",
    "\n",
    "Adhering to the standard practice of using Exception as the base class ensures future compatibility with changes and improvements in Python. It is a best practice that helps your code remain robust and adaptable over time."
   ]
  },
  {
   "cell_type": "code",
   "execution_count": 1,
   "id": "eedee55b-2dbe-4368-813a-900af7cb7530",
   "metadata": {},
   "outputs": [
    {
     "name": "stdout",
     "output_type": "stream",
     "text": [
      "Caught custom exception: This is a custom exception.\n"
     ]
    }
   ],
   "source": [
    "class CustomError(Exception):\n",
    "    \"\"\"Custom exception inherited from the base Exception class.\"\"\"\n",
    "    def __init__(self, message):\n",
    "        super().__init__(message)\n",
    "\n",
    "# Example usage:\n",
    "try:\n",
    "    raise CustomError(\"This is a custom exception.\")\n",
    "except CustomError as ce:\n",
    "    print(f\"Caught custom exception: {ce}\")\n",
    "except Exception as e:\n",
    "    print(f\"Caught a generic exception: {e}\")\n"
   ]
  },
  {
   "cell_type": "markdown",
   "id": "8a764c60-eb5d-43dc-83fd-f8a79f9ed26a",
   "metadata": {},
   "source": [
    "In this example, CustomError is a custom exception class that inherits from Exception. The try-except block demonstrates catching both the custom exception and more generic exceptions, showcasing the compatibility and flexibility provided by using Exception as the base class."
   ]
  },
  {
   "cell_type": "markdown",
   "id": "fcaef05a-16a8-474b-9426-c3e144f57711",
   "metadata": {},
   "source": [
    "Q2. Write a python program to print Python Exception Hierarchy.\n"
   ]
  },
  {
   "cell_type": "markdown",
   "id": "1d5fb6df-49b0-40e2-90e5-6d39bfba3de6",
   "metadata": {},
   "source": [
    " In Python, the exception hierarchy is organized with the BaseException class at the top, followed by various built-in exception classes. The BaseException class is the common ancestor for all exceptions. Here's a simple Python program to print the exception hierarchy:"
   ]
  },
  {
   "cell_type": "code",
   "execution_count": 2,
   "id": "43d0d15b-e2fa-4f0c-b063-c3b855569185",
   "metadata": {},
   "outputs": [
    {
     "name": "stdout",
     "output_type": "stream",
     "text": [
      "BaseException\n",
      "  BaseExceptionGroup\n",
      "    ExceptionGroup\n",
      "  Exception\n",
      "    ArithmeticError\n",
      "      FloatingPointError\n",
      "      OverflowError\n",
      "      ZeroDivisionError\n",
      "        DivisionByZero\n",
      "        DivisionUndefined\n",
      "      DecimalException\n",
      "        Clamped\n",
      "        Rounded\n",
      "          Underflow\n",
      "          Overflow\n",
      "        Inexact\n",
      "          Underflow\n",
      "          Overflow\n",
      "        Subnormal\n",
      "          Underflow\n",
      "        DivisionByZero\n",
      "        FloatOperation\n",
      "        InvalidOperation\n",
      "          ConversionSyntax\n",
      "          DivisionImpossible\n",
      "          DivisionUndefined\n",
      "          InvalidContext\n",
      "    AssertionError\n",
      "    AttributeError\n",
      "      FrozenInstanceError\n",
      "    BufferError\n",
      "    EOFError\n",
      "      IncompleteReadError\n",
      "    ImportError\n",
      "      ModuleNotFoundError\n",
      "        PackageNotFoundError\n",
      "      ZipImportError\n",
      "    LookupError\n",
      "      IndexError\n",
      "      KeyError\n",
      "        NoSuchKernel\n",
      "        UnknownBackend\n",
      "      CodecRegistryError\n",
      "    MemoryError\n",
      "    NameError\n",
      "      UnboundLocalError\n",
      "    OSError\n",
      "      BlockingIOError\n",
      "      ChildProcessError\n",
      "      ConnectionError\n",
      "        BrokenPipeError\n",
      "        ConnectionAbortedError\n",
      "        ConnectionRefusedError\n",
      "        ConnectionResetError\n",
      "          RemoteDisconnected\n",
      "      FileExistsError\n",
      "      FileNotFoundError\n",
      "      InterruptedError\n",
      "        InterruptedSystemCall\n",
      "      IsADirectoryError\n",
      "      NotADirectoryError\n",
      "      PermissionError\n",
      "      ProcessLookupError\n",
      "      TimeoutError\n",
      "      UnsupportedOperation\n",
      "      herror\n",
      "      gaierror\n",
      "      SSLError\n",
      "        SSLCertVerificationError\n",
      "        SSLZeroReturnError\n",
      "        SSLWantWriteError\n",
      "        SSLWantReadError\n",
      "        SSLSyscallError\n",
      "        SSLEOFError\n",
      "      Error\n",
      "        SameFileError\n",
      "      SpecialFileError\n",
      "      ExecError\n",
      "      ReadError\n",
      "      URLError\n",
      "        HTTPError\n",
      "        ContentTooShortError\n",
      "      BadGzipFile\n",
      "    ReferenceError\n",
      "    RuntimeError\n",
      "      NotImplementedError\n",
      "        ZMQVersionError\n",
      "        StdinNotImplementedError\n",
      "      RecursionError\n",
      "      _DeadlockError\n",
      "      BrokenBarrierError\n",
      "      BrokenExecutor\n",
      "        BrokenThreadPool\n",
      "      SendfileNotAvailableError\n",
      "      BrokenBarrierError\n",
      "      ExtractionError\n",
      "      VariableError\n",
      "    StopAsyncIteration\n",
      "    StopIteration\n",
      "    SyntaxError\n",
      "      IndentationError\n",
      "        TabError\n",
      "    SystemError\n",
      "      CodecRegistryError\n",
      "    TypeError\n",
      "      FloatOperation\n",
      "      MultipartConversionError\n",
      "    ValueError\n",
      "      UnicodeError\n",
      "        UnicodeDecodeError\n",
      "        UnicodeEncodeError\n",
      "        UnicodeTranslateError\n",
      "      UnsupportedOperation\n",
      "      JSONDecodeError\n",
      "      SSLCertVerificationError\n",
      "      Error\n",
      "      AddressValueError\n",
      "      NetmaskValueError\n",
      "      UnsupportedDigestmodError\n",
      "      IllegalMonthError\n",
      "      IllegalWeekdayError\n",
      "      ParserError\n",
      "      MessageDefect\n",
      "        NoBoundaryInMultipartDefect\n",
      "        StartBoundaryNotFoundDefect\n",
      "        CloseBoundaryNotFoundDefect\n",
      "        FirstHeaderLineIsContinuationDefect\n",
      "        MisplacedEnvelopeHeaderDefect\n",
      "        MissingHeaderBodySeparatorDefect\n",
      "        MultipartInvariantViolationDefect\n",
      "        InvalidMultipartContentTransferEncodingDefect\n",
      "        UndecodableBytesDefect\n",
      "        InvalidBase64PaddingDefect\n",
      "        InvalidBase64CharactersDefect\n",
      "        InvalidBase64LengthDefect\n",
      "        HeaderDefect\n",
      "          InvalidHeaderDefect\n",
      "          HeaderMissingRequiredValue\n",
      "          NonPrintableDefect\n",
      "          ObsoleteHeaderDefect\n",
      "          NonASCIILocalPartDefect\n",
      "          InvalidDateDefect\n",
      "      ClassNotFound\n",
      "      ClipboardEmpty\n",
      "      MacroToEdit\n",
      "      InvalidFileException\n",
      "      UnequalIterablesError\n",
      "      InvalidVersion\n",
      "      ELFInvalid\n",
      "      InvalidWheelFilename\n",
      "      InvalidSdistFilename\n",
      "      InvalidSpecifier\n",
      "      InvalidMarker\n",
      "      UndefinedComparison\n",
      "      UndefinedEnvironmentName\n",
      "      InvalidRequirement\n",
      "        RequirementParseError\n",
      "      InvalidVersion\n",
      "    Warning\n",
      "      BytesWarning\n",
      "      DeprecationWarning\n",
      "        ProvisionalWarning\n",
      "      EncodingWarning\n",
      "      FutureWarning\n",
      "        ProvisionalCompleterWarning\n",
      "      ImportWarning\n",
      "      PendingDeprecationWarning\n",
      "      ResourceWarning\n",
      "      RuntimeWarning\n",
      "        ProactorSelectorThreadWarning\n",
      "        UnknownTimezoneWarning\n",
      "        PEP440Warning\n",
      "      SyntaxWarning\n",
      "      UnicodeWarning\n",
      "      UserWarning\n",
      "        GetPassWarning\n",
      "        FormatterWarning\n",
      "      DeprecatedTzFormatWarning\n",
      "      PkgResourcesDeprecationWarning\n",
      "    ExceptionGroup\n",
      "    _OptionError\n",
      "    _Error\n",
      "    error\n",
      "    Error\n",
      "    SubprocessError\n",
      "      CalledProcessError\n",
      "      TimeoutExpired\n",
      "    ZMQBaseError\n",
      "      ZMQError\n",
      "        ContextTerminated\n",
      "        Again\n",
      "        InterruptedSystemCall\n",
      "      ZMQBindError\n",
      "      NotDone\n",
      "    Error\n",
      "    error\n",
      "    PickleError\n",
      "      PicklingError\n",
      "      UnpicklingError\n",
      "    _Stop\n",
      "    TokenError\n",
      "    StopTokenizing\n",
      "    Error\n",
      "      CancelledError\n",
      "      InvalidStateError\n",
      "    _GiveupOnSendfile\n",
      "    Incomplete\n",
      "    ClassFoundException\n",
      "    EndOfBlock\n",
      "    InvalidStateError\n",
      "    LimitOverrunError\n",
      "    QueueEmpty\n",
      "    QueueFull\n",
      "    error\n",
      "    LZMAError\n",
      "    RegistryError\n",
      "    _GiveupOnFastCopy\n",
      "    TraitError\n",
      "    Empty\n",
      "    Full\n",
      "    ArgumentError\n",
      "    COMError\n",
      "    ReturnValueIgnoredError\n",
      "    ArgumentError\n",
      "    ArgumentTypeError\n",
      "    ConfigError\n",
      "      ConfigLoaderError\n",
      "        ArgumentError\n",
      "      ConfigFileNotFound\n",
      "    ConfigurableError\n",
      "      MultipleInstanceError\n",
      "    ApplicationError\n",
      "    InvalidPortNumber\n",
      "    NoIPAddresses\n",
      "    Error\n",
      "    BadZipFile\n",
      "    LargeZipFile\n",
      "    MessageError\n",
      "      MessageParseError\n",
      "        HeaderParseError\n",
      "        BoundaryError\n",
      "      MultipartConversionError\n",
      "      CharsetError\n",
      "    DuplicateKernelError\n",
      "    ErrorDuringImport\n",
      "    NotOneValueFound\n",
      "    CannotEval\n",
      "    OptionError\n",
      "    BdbQuit\n",
      "    Restart\n",
      "    FindCmdError\n",
      "    HomeDirError\n",
      "    ProfileDirError\n",
      "    IPythonCoreError\n",
      "      TryNext\n",
      "      UsageError\n",
      "      StdinNotImplementedError\n",
      "    InputRejected\n",
      "    GetoptError\n",
      "    ErrorToken\n",
      "    PrefilterError\n",
      "    AliasError\n",
      "      InvalidAliasError\n",
      "    Error\n",
      "      InterfaceError\n",
      "      DatabaseError\n",
      "        InternalError\n",
      "        OperationalError\n",
      "        ProgrammingError\n",
      "        IntegrityError\n",
      "        DataError\n",
      "        NotSupportedError\n",
      "    Warning\n",
      "    SpaceInInput\n",
      "    DOMException\n",
      "      IndexSizeErr\n",
      "      DomstringSizeErr\n",
      "      HierarchyRequestErr\n",
      "      WrongDocumentErr\n",
      "      InvalidCharacterErr\n",
      "      NoDataAllowedErr\n",
      "      NoModificationAllowedErr\n",
      "      NotFoundErr\n",
      "      NotSupportedErr\n",
      "      InuseAttributeErr\n",
      "      InvalidStateErr\n",
      "      SyntaxErr\n",
      "      InvalidModificationErr\n",
      "      NamespaceErr\n",
      "      InvalidAccessErr\n",
      "      ValidationErr\n",
      "    ValidationError\n",
      "    EditReadOnlyBuffer\n",
      "    _Retry\n",
      "    InvalidLayoutError\n",
      "    HeightIsUnknownError\n",
      "    GuardRejection\n",
      "    ParserSyntaxError\n",
      "    InternalParseError\n",
      "    _PositionUpdatingFinished\n",
      "    SimpleGetItemNotFound\n",
      "    UncaughtAttributeError\n",
      "    HasNoContext\n",
      "    ParamIssue\n",
      "    _JediError\n",
      "      InternalError\n",
      "      WrongVersion\n",
      "      RefactoringError\n",
      "    OnErrorLeaf\n",
      "    InvalidPythonEnvironment\n",
      "    HTTPException\n",
      "      NotConnected\n",
      "      InvalidURL\n",
      "      UnknownProtocol\n",
      "      UnknownTransferEncoding\n",
      "      UnimplementedFileMode\n",
      "      IncompleteRead\n",
      "      ImproperConnectionState\n",
      "        CannotSendRequest\n",
      "        CannotSendHeader\n",
      "        ResponseNotReady\n",
      "      BadStatusLine\n",
      "        RemoteDisconnected\n",
      "      LineTooLong\n",
      "    InteractivelyDefined\n",
      "    KillEmbedded\n",
      "    Error\n",
      "      NoSuchProcess\n",
      "        ZombieProcess\n",
      "      AccessDenied\n",
      "      TimeoutExpired\n",
      "    Error\n",
      "    TimeoutExpired\n",
      "    TimeoutAbandoned\n",
      "    KeyReuseError\n",
      "    UnknownKeyError\n",
      "    LeakedCallbackError\n",
      "    BadYieldError\n",
      "    ReturnValueIgnoredError\n",
      "    Return\n",
      "    QueueEmpty\n",
      "    QueueFull\n",
      "    DebuggerInitializationError\n",
      "    ExpatError\n",
      "    Error\n",
      "      ProtocolError\n",
      "      ResponseError\n",
      "      Fault\n",
      "    ParserSyntaxError\n",
      "    ResolutionError\n",
      "      VersionConflict\n",
      "        ContextualVersionConflict\n",
      "      DistributionNotFound\n",
      "      UnknownExtra\n",
      "    _Error\n",
      "    UnableToResolveVariableException\n",
      "    InvalidTypeInArgsException\n",
      "    CustomError\n",
      "  GeneratorExit\n",
      "  KeyboardInterrupt\n",
      "  SystemExit\n",
      "  CancelledError\n",
      "  AbortThread\n"
     ]
    }
   ],
   "source": [
    "def print_exception_hierarchy(exception_class, indentation=0):\n",
    "    print(\"  \" * indentation + f\"{exception_class.__name__}\")\n",
    "    for subclass in exception_class.__subclasses__():\n",
    "        print_exception_hierarchy(subclass, indentation + 1)\n",
    "\n",
    "# Print the Python exception hierarchy\n",
    "print_exception_hierarchy(BaseException)\n"
   ]
  },
  {
   "cell_type": "markdown",
   "id": "c61d3f40-c4c2-4aa0-a0b0-6398224a5c1d",
   "metadata": {},
   "source": [
    "This program defines a function print_exception_hierarchy that recursively prints the exception hierarchy starting from a specified base class (BaseException in this case). The __subclasses__() method is used to obtain a list of direct subclasses of a class."
   ]
  },
  {
   "cell_type": "markdown",
   "id": "ff7824a5-71ec-4ab2-8015-e2aeef28328c",
   "metadata": {},
   "source": [
    "Q3. What errors are defined in the ArithmeticError class? Explain any two with an example.\n"
   ]
  },
  {
   "cell_type": "markdown",
   "id": "20656f19-7a63-4511-babf-3a7d01a9c2c3",
   "metadata": {},
   "source": [
    "The ArithmeticError class in Python serves as the base class for exceptions that arise during arithmetic operations. It is a subclass of the Exception class and provides a common ancestor for more specific arithmetic-related exceptions. Two common exceptions derived from ArithmeticError are ZeroDivisionError and OverflowError."
   ]
  },
  {
   "cell_type": "markdown",
   "id": "4f6e2039-a7e0-4916-a91a-5b5921b099f8",
   "metadata": {},
   "source": [
    "1. ZeroDivisionError:\n",
    "This exception is raised when attempting to divide a number by zero."
   ]
  },
  {
   "cell_type": "code",
   "execution_count": 3,
   "id": "194254ca-f043-46f1-8c15-eb9e3a6f2dee",
   "metadata": {},
   "outputs": [
    {
     "name": "stdout",
     "output_type": "stream",
     "text": [
      "Error: division by zero\n"
     ]
    }
   ],
   "source": [
    "def divide_numbers(numerator, denominator):\n",
    "    try:\n",
    "        result = numerator / denominator  # This may raise a ZeroDivisionError\n",
    "        print(\"Result:\", result)\n",
    "    except ZeroDivisionError as e:\n",
    "        print(f\"Error: {e}\")\n",
    "\n",
    "# Example usage:\n",
    "divide_numbers(10, 0)  # This will raise a ZeroDivisionError\n"
   ]
  },
  {
   "cell_type": "markdown",
   "id": "869f2701-b9c1-4d7a-8e50-46d57c4ed833",
   "metadata": {},
   "source": [
    "2. OverflowError:\n",
    "This exception is raised when an arithmetic operation exceeds the limits of the data type being used."
   ]
  },
  {
   "cell_type": "code",
   "execution_count": 4,
   "id": "cc7591b0-bff8-4c86-ac83-1a9c47f6bcaa",
   "metadata": {},
   "outputs": [
    {
     "name": "stdout",
     "output_type": "stream",
     "text": [
      "Result: 10000000000000000000000000000000000000000000000000000000000000000000000000000000000000000000000000000000000000000000000000000000000000000000000000000000000000000000000000000000000000000000000000000000000000000000000000000000000000000000000000000000000000000000000000000000000000000000000000000000000000000000000000000000000000000000000000000000000000000000000000000000000000000000000000000000000000000000000000000000000000000000000000000000000000000000000000000000000000000000000000000000000000000000000000000000000000000000000000000000000000000000000000000000000000000000000000000000000000000000000000000000000000000000000000000000000000000000000000000000000000000000000000000000000000000000000000000000000000000000000000000000000000000000000000000000000000000000000000000000000000000000000000000000000000000000000000000000000000000000000000000000000000000000000000000000000000000000000000000000000000000000000000000000000000000000000000000000000000000000000000000000000000000000000000000000000000000\n"
     ]
    }
   ],
   "source": [
    "def calculate_large_sum():\n",
    "    try:\n",
    "        result = 10 ** 1000  # This may raise an OverflowError for exceeding limits\n",
    "        print(\"Result:\", result)\n",
    "    except OverflowError as e:\n",
    "        print(f\"Error: {e}\")\n",
    "\n",
    "# Example usage:\n",
    "calculate_large_sum()  # This will raise an OverflowError\n"
   ]
  },
  {
   "cell_type": "markdown",
   "id": "dd91a75a-4128-477a-a4ae-218119b15428",
   "metadata": {},
   "source": [
    "In this example, attempting to calculate a large exponentiation (10 raised to the power of 1000) may exceed the limits of the data type, leading to an OverflowError. The exception is caught in the except block.\n",
    "\n",
    "These examples demonstrate situations where specific arithmetic operations lead to exceptions inherited from the ArithmeticError class. Handling these exceptions allows for graceful error management in your code."
   ]
  },
  {
   "cell_type": "markdown",
   "id": "10d5039e-a185-47fc-bb13-83d837bd5d79",
   "metadata": {},
   "source": [
    "Q4. Why LookupError class is used? Explain with an example KeyError and IndexError.\n"
   ]
  },
  {
   "cell_type": "markdown",
   "id": "3cd79030-f3d2-4e69-a2e8-5ddaebac023b",
   "metadata": {},
   "source": [
    "The LookupError class in Python serves as the base class for exceptions that occur when a key or index is not found in a collection or sequence, respectively. It is a subclass of the Exception class and provides a common ancestor for more specific lookup-related exceptions. Two common exceptions derived from LookupError are KeyError and IndexError."
   ]
  },
  {
   "cell_type": "markdown",
   "id": "0b03120e-b281-4080-9954-c3c1a6ded0e0",
   "metadata": {},
   "source": [
    "1. KeyError:\n",
    "This exception is raised when trying to access a key that does not exist in a dictionary."
   ]
  },
  {
   "cell_type": "code",
   "execution_count": 5,
   "id": "490a133d-87c1-42f2-8579-364b60baefe4",
   "metadata": {},
   "outputs": [
    {
     "name": "stdout",
     "output_type": "stream",
     "text": [
      "Error: 'd'\n"
     ]
    }
   ],
   "source": [
    "my_dict = {'a': 1, 'b': 2, 'c': 3}\n",
    "\n",
    "try:\n",
    "    value = my_dict['d']  # This may raise a KeyError\n",
    "    print(\"Value:\", value)\n",
    "except KeyError as e:\n",
    "    print(f\"Error: {e}\")\n"
   ]
  },
  {
   "cell_type": "markdown",
   "id": "8cc3a199-9774-4a8e-9437-1abf5d636f8a",
   "metadata": {},
   "source": [
    "In this example, the attempt to access the key 'd' in the dictionary my_dict results in a KeyError. The except block catches the exception and prints an error message."
   ]
  },
  {
   "cell_type": "markdown",
   "id": "2ef32250-f377-4e66-b2df-63f90a3bdf9c",
   "metadata": {},
   "source": [
    "2. IndexError:\n",
    "This exception is raised when trying to access an index that is out of range in a sequence (e.g., list, tuple, string)."
   ]
  },
  {
   "cell_type": "code",
   "execution_count": 6,
   "id": "a63c401d-df72-44c0-a5a8-86ad013411d5",
   "metadata": {},
   "outputs": [
    {
     "name": "stdout",
     "output_type": "stream",
     "text": [
      "Error: list index out of range\n"
     ]
    }
   ],
   "source": [
    "my_list = [1, 2, 3, 4, 5]\n",
    "\n",
    "try:\n",
    "    value = my_list[10]  # This may raise an IndexError\n",
    "    print(\"Value:\", value)\n",
    "except IndexError as e:\n",
    "    print(f\"Error: {e}\")\n"
   ]
  },
  {
   "cell_type": "markdown",
   "id": "0f778cbe-411c-4bfd-9354-26b8ff732ff8",
   "metadata": {},
   "source": [
    "In this example, the attempt to access the element at index 10 in the list my_list results in an IndexError. The except block catches the exception and prints an error message.\n",
    "\n",
    "Using the LookupError class as the base class for these exceptions allows for a common handling approach when dealing with situations where a key or index is not found. It provides a way to catch these specific errors or handle them in a unified manner."
   ]
  },
  {
   "cell_type": "markdown",
   "id": "76a693be-63af-43d8-b364-4cb6178aa7eb",
   "metadata": {},
   "source": [
    "Q5. Explain ImportError. What is ModuleNotFoundError?\n"
   ]
  },
  {
   "cell_type": "markdown",
   "id": "7af88289-91ce-4d06-a0d3-f69c7fe62593",
   "metadata": {},
   "source": [
    "\n",
    "ImportError and ModuleNotFoundError are both exceptions in Python related to importing modules. They indicate issues that can occur when attempting to import a module."
   ]
  },
  {
   "cell_type": "markdown",
   "id": "c4553f68-07de-4049-912b-5520af30b09e",
   "metadata": {},
   "source": [
    "ImportError:\n",
    "The ImportError class is a base class for exceptions that occur during the import process. It can be raised for various reasons, such as when a module is not found, or when there are errors within the module being imported."
   ]
  },
  {
   "cell_type": "code",
   "execution_count": 7,
   "id": "b07c034d-da61-42a0-9877-91700b57eb34",
   "metadata": {},
   "outputs": [
    {
     "name": "stdout",
     "output_type": "stream",
     "text": [
      "Error: No module named 'non_existent_module'\n"
     ]
    }
   ],
   "source": [
    "try:\n",
    "    import non_existent_module  # This may raise an ImportError\n",
    "except ImportError as e:\n",
    "    print(f\"Error: {e}\")\n"
   ]
  },
  {
   "cell_type": "markdown",
   "id": "1a24231a-e9f5-4a1e-9592-1278f4f13d78",
   "metadata": {},
   "source": [
    "In this example, attempting to import the non-existent module non_existent_module will result in an ImportError. The except block catches the exception and prints an error message."
   ]
  },
  {
   "cell_type": "markdown",
   "id": "c0c4a354-b81e-48fd-b572-85d724176970",
   "metadata": {},
   "source": [
    "ModuleNotFoundError:\n",
    "ModuleNotFoundError is a more specific subclass of ImportError that is raised when a module is not found during the import process."
   ]
  },
  {
   "cell_type": "code",
   "execution_count": 8,
   "id": "b46ce66c-da54-4739-a6e7-139ab7d50726",
   "metadata": {},
   "outputs": [
    {
     "name": "stdout",
     "output_type": "stream",
     "text": [
      "Error: No module named 'non_existent_module'\n"
     ]
    }
   ],
   "source": [
    "try:\n",
    "    import non_existent_module  # This may raise a ModuleNotFoundError\n",
    "except ModuleNotFoundError as e:\n",
    "    print(f\"Error: {e}\")\n"
   ]
  },
  {
   "cell_type": "markdown",
   "id": "86693fd5-1c68-4876-81de-faff7f79016b",
   "metadata": {},
   "source": [
    "In this example, attempting to import the non-existent module non_existent_module will result in a more specific ModuleNotFoundError. Like the general ImportError, the except block catches the exception and prints an error message.\n",
    "\n",
    "Starting from Python 3.6, ModuleNotFoundError was introduced to provide more precise information about the specific issue of a module not being found, allowing for more targeted exception handling.\n",
    "\n",
    "In general, both ImportError and ModuleNotFoundError can be caught using except ImportError if you want to handle them in a unified manner, or you can handle them separately based on your specific needs.\n",
    "\n",
    "\n",
    "\n",
    "\n",
    "\n"
   ]
  },
  {
   "cell_type": "markdown",
   "id": "5022b1c7-7704-4ed5-bbda-b10d353d133e",
   "metadata": {},
   "source": [
    "Q6. List down some best practices for exception handling in python. \n"
   ]
  },
  {
   "cell_type": "markdown",
   "id": "1a5af701-3b85-429e-8e35-78e0bb062c72",
   "metadata": {},
   "source": [
    "\n",
    "Exception handling is a crucial aspect of writing robust and maintainable Python code. Here are some best practices for handling exceptions in Python:"
   ]
  },
  {
   "cell_type": "markdown",
   "id": "2ec8bacc-ed1d-4f66-a7d6-e90601e48ad8",
   "metadata": {},
   "source": [
    "1. Use Specific Exceptions:\n",
    "\n",
    "Catch specific exceptions rather than using a broad except clause. This helps in understanding and handling errors more effectively."
   ]
  },
  {
   "cell_type": "markdown",
   "id": "ebd82de0-125e-4980-8dda-da1113ed99bb",
   "metadata": {},
   "source": [
    "try:\n",
    "\n",
    "    # Some code that may raise a specific exception\n",
    "    \n",
    "except SpecificError as se:\n",
    "\n",
    "    # Handle SpecificError\n",
    "    \n",
    "except AnotherError as ae:\n",
    "\n",
    "    # Handle AnotherError\n"
   ]
  },
  {
   "cell_type": "markdown",
   "id": "d85eefef-9a08-42b8-bc67-949fd2cbb26c",
   "metadata": {},
   "source": [
    "2. Avoid Using a Blanket except Clause:\n",
    "\n",
    "Avoid catching all exceptions using a blanket except clause unless absolutely necessary. It can hide unexpected issues and make debugging challenging."
   ]
  },
  {
   "cell_type": "markdown",
   "id": "4fcc2e16-4c81-4e53-a1d7-9eb4cdeddf44",
   "metadata": {},
   "source": [
    "try:\n",
    "\n",
    "    # Some code that may raise any exception\n",
    "    \n",
    "except Exception as e:\n",
    "\n",
    "    # Handle all exceptions (use cautiously)\n"
   ]
  },
  {
   "cell_type": "markdown",
   "id": "1e75ea0d-fb41-420e-97d9-86dedba18334",
   "metadata": {},
   "source": [
    "3. Handle Exceptions at the Right Level:\n",
    "\n",
    "Handle exceptions at the level where you have sufficient information to take appropriate action. Avoid catching exceptions too early or too late in the program.\n",
    "\n",
    "4. Use finally for Cleanup:\n",
    "\n",
    "Utilize the finally block for cleanup operations that must be performed regardless of whether an exception occurred."
   ]
  },
  {
   "cell_type": "markdown",
   "id": "d7da1056-ad7a-4a1b-ae12-c697558e7838",
   "metadata": {},
   "source": [
    "try:\n",
    "\n",
    "    # Some code that may raise an exception\n",
    "    \n",
    "except SpecificError as se:\n",
    "\n",
    "    # Handle SpecificError\n",
    "    \n",
    "finally:\n",
    "\n",
    "    # Cleanup code (always executed)\n"
   ]
  },
  {
   "cell_type": "markdown",
   "id": "5702bd7c-791c-41cb-bff4-1952cf3cf797",
   "metadata": {},
   "source": [
    "5. Log Exceptions:\n",
    "\n",
    "Log exceptions rather than just printing them. Use the logging module for consistent and configurable logging."
   ]
  },
  {
   "cell_type": "markdown",
   "id": "6cd7a1f3-14d1-424f-9701-fd30a9e742d3",
   "metadata": {},
   "source": [
    "import logging\n",
    "\n",
    "try:\n",
    "    \n",
    "    # Some code that may raise an exception\n",
    "    \n",
    "except Exception as e:\n",
    "    \n",
    "    logging.exception(\"An error occurred: %s\", e)\n"
   ]
  },
  {
   "cell_type": "markdown",
   "id": "78b89bb9-1f0b-4bfb-bd1c-2a36c574a93a",
   "metadata": {},
   "source": [
    "6. Keep Try Blocks Minimal:\n",
    "\n",
    "Keep the try blocks minimal, containing only the code that might raise an exception. This improves readability and makes it easier to identify the potential sources of errors.\n",
    "\n",
    "7. Reraise Exceptions Sparingly:\n",
    "\n",
    "Reraise exceptions only when necessary. If you need to catch an exception but still want it to propagate, use raise without any arguments."
   ]
  },
  {
   "cell_type": "markdown",
   "id": "6670d751-388e-46fa-a0d3-49edc506d354",
   "metadata": {},
   "source": [
    "try:\n",
    "    \n",
    "    # Some code that may raise an exception\n",
    "    \n",
    "except Exception as e:\n",
    "    \n",
    "    # Handle the exception\n",
    "    \n",
    "    raise  # Reraise the same exception\n"
   ]
  },
  {
   "cell_type": "markdown",
   "id": "d716ba39-ec29-4123-9181-9524da7cbea6",
   "metadata": {},
   "source": [
    "8. Document Exception Handling:\n",
    "\n",
    "Document the expected exceptions that a function or code block may raise. This helps other developers understand the potential errors and how to handle them."
   ]
  },
  {
   "cell_type": "code",
   "execution_count": 14,
   "id": "017afcb5-b4c2-4a0e-947c-4cefdd83b26f",
   "metadata": {},
   "outputs": [],
   "source": [
    "def my_function():\n",
    "    \"\"\"\n",
    "    Perform some operation.\n",
    "\n",
    "    Raises:\n",
    "        ValueError: If the input is invalid.\n",
    "        FileNotFoundError: If a required file is not found.\n",
    "    \"\"\"\n",
    "    # Function implementation\n"
   ]
  },
  {
   "cell_type": "markdown",
   "id": "423083ac-82d4-4000-b155-b3e9ccc3f458",
   "metadata": {},
   "source": [
    "9. Use else for Code Without Exceptions:\n",
    "\n",
    "Use the else block in a try-except statement for code that should run only if no exceptions were raised. This improves code organization."
   ]
  },
  {
   "cell_type": "markdown",
   "id": "b6d8629f-c17c-41f2-b18a-6d982a1875b8",
   "metadata": {},
   "source": [
    "try:\n",
    "    \n",
    "    # Some code that may raise an exception\n",
    "    \n",
    "except SpecificError as se:\n",
    "    \n",
    "    # Handle SpecificError\n",
    "    \n",
    "else:\n",
    "    \n",
    "    # Code to execute if no exception occurred\n"
   ]
  },
  {
   "cell_type": "markdown",
   "id": "6b4be0b7-1079-4e11-bc4c-3ceddfb25185",
   "metadata": {},
   "source": [
    "10. Consider Context Managers (with Statement):\n",
    "\n",
    "Use context managers (implemented with the with statement) for resource management. They automatically handle setup and cleanup operations, reducing the chance of resource leaks."
   ]
  },
  {
   "cell_type": "markdown",
   "id": "b520063f-bab1-4075-a2b5-4abc751748a3",
   "metadata": {},
   "source": [
    "with open('file.txt', 'r') as file:\n",
    "    \n",
    "    # Code that operates on the file\n",
    "    \n",
    " File is automatically closed outside the 'with' block\n"
   ]
  },
  {
   "cell_type": "markdown",
   "id": "ecca3140-7e66-4fd0-9881-e5a27c3fa6ed",
   "metadata": {},
   "source": [
    "These best practices contribute to writing more maintainable, readable, and resilient Python code. Effective exception handling is crucial for identifying and addressing errors while ensuring that your application remains robust and user-friendly."
   ]
  },
  {
   "cell_type": "code",
   "execution_count": null,
   "id": "ae1f8d18-9c12-4a30-8edd-1d86fc858880",
   "metadata": {},
   "outputs": [],
   "source": []
  }
 ],
 "metadata": {
  "kernelspec": {
   "display_name": "Python 3 (ipykernel)",
   "language": "python",
   "name": "python3"
  },
  "language_info": {
   "codemirror_mode": {
    "name": "ipython",
    "version": 3
   },
   "file_extension": ".py",
   "mimetype": "text/x-python",
   "name": "python",
   "nbconvert_exporter": "python",
   "pygments_lexer": "ipython3",
   "version": "3.11.7"
  }
 },
 "nbformat": 4,
 "nbformat_minor": 5
}
